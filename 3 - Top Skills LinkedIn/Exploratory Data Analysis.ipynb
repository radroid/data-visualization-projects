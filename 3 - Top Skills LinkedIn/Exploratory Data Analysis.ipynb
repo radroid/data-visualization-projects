{
 "cells": [
  {
   "cell_type": "markdown",
   "id": "a2403af5",
   "metadata": {},
   "source": [
    "# Exploratory Data Analysis\n",
    "\n",
    "## Assignment Objective\n",
    "Data stories help stakeholders clearly understand the data and create a sense of urgency to make decisions based on that data. Your objective is to create a data story to recommend to different stakeholder groups the top five data skills needed in a data science training program.\n",
    "\n",
    "## Scenario\n",
    "Your director has decided to invest in a data science training program. **To help with design and vendor selection your director wants you to determine the top five skills that many feel companies need**. As part of the decision making process, you need to present your findings as a data story to **business experts, management, and technical staff.**\n",
    "\n",
    "\n",
    "## Key information\n",
    "> **Audience**: Business Experts, management and technical staff.\n",
    "> **Goal**: To help with design and vendor selection, determine the top five skills in a data science training program.\n"
   ]
  },
  {
   "cell_type": "code",
   "execution_count": null,
   "id": "e1f01e14",
   "metadata": {},
   "outputs": [],
   "source": []
  }
 ],
 "metadata": {
  "kernelspec": {
   "display_name": "Python 3.9.7 64-bit (conda)",
   "language": "python",
   "name": "python397jvsc74a57bd0537b1257e8f3d87214f3bf8d7039d7c6d0483d490c50c1f967a98d26345650d1"
  },
  "language_info": {
   "codemirror_mode": {
    "name": "ipython",
    "version": 3
   },
   "file_extension": ".py",
   "mimetype": "text/x-python",
   "name": "python",
   "nbconvert_exporter": "python",
   "pygments_lexer": "ipython3",
   "version": "3.9.7"
  }
 },
 "nbformat": 4,
 "nbformat_minor": 5
}
